{
 "cells": [
  {
   "cell_type": "code",
   "execution_count": 1,
   "metadata": {},
   "outputs": [],
   "source": [
    "import numpy as np\n",
    "import galsim\n",
    "import pandas as pd\n",
    "import cv2\n",
    "import matplotlib.pyplot as plt\n",
    "from tqdm import tqdm\n",
    "import copy"
   ]
  },
  {
   "cell_type": "markdown",
   "metadata": {},
   "source": [
    "# Galsim arguments"
   ]
  },
  {
   "cell_type": "code",
   "execution_count": 2,
   "metadata": {},
   "outputs": [],
   "source": [
    "image_size=64\n",
    "pixel_size=0.03\n",
    "psf_size=49\n",
    "psf_pixel_size=0.074\n",
    "galaxy_type='real'\n",
    "psf_type='real'\n",
    "\n",
    "noise_border_size=8\n",
    "cat = galsim.COSMOSCatalog(sample='23.5')"
   ]
  },
  {
   "cell_type": "markdown",
   "metadata": {},
   "source": [
    "# Processing galaxy"
   ]
  },
  {
   "cell_type": "code",
   "execution_count": 3,
   "metadata": {},
   "outputs": [],
   "source": [
    "def Convolve_with_PSF(gal):\n",
    "    # Dilate the PSF to match required resolution\n",
    "    psf_dilate_factor = psf_pixel_size / 0.074  # taken for HST F814W band\n",
    "    psf = gal.original_psf.dilate(psf_dilate_factor).withFlux(1.)\n",
    "\n",
    "    #Perform convolution with PSF\n",
    "    gal = galsim.Convolve(gal, psf)\n",
    "    \n",
    "    return gal\n",
    "\n",
    "def Manual_noise_extraction(image_64x64):\n",
    "    #Border regions for noise extraction\n",
    "    Borders=np.array([image_64x64[:noise_border_size,:noise_border_size],image_64x64[:noise_border_size,-noise_border_size:],\n",
    "                    image_64x64[-noise_border_size:,:noise_border_size],image_64x64[-noise_border_size:,-noise_border_size:]])\n",
    "\n",
    "    #Taking min to make sure that we take std of only background\n",
    "    #It enables us to avoid accounting std for noise+border of \n",
    "    #diagonal huge edge on spiral galaxies touching noise extraction regions\n",
    "    noise=min(Borders.std(axis=(1,2)))\n",
    "    \n",
    "    return noise\n",
    "\n",
    "def Process_galaxy(index):\n",
    "    \n",
    "    #Making galaxy\n",
    "    gal=cat.makeGalaxy(index,gal_type=galaxy_type)\n",
    "    \n",
    "    #Add PSF\n",
    "    #It is important to add PSF in the first place since image size gets bigger\n",
    "    gal=Convolve_with_PSF(gal)\n",
    "    \n",
    "    #Extracting information on noise and pixel_scale which is typically 0.03\"\n",
    "    _,_,_,pixel_scale,noise_variance=cat.getRealParams(index)\n",
    "    \n",
    "    #Length of picture that contains 99.5% of flux\n",
    "    orig_shape=gal.getGoodImageSize(pixel_scale)\n",
    "    \n",
    "    #Sort out too small images\n",
    "    #Somehow galsim adds 2 to the size of desired image\n",
    "    #The use of size'=size-2 results in desired size\n",
    "    if orig_shape<(image_size-2):\n",
    "            return False\n",
    "    \n",
    "    #Build image\n",
    "    #Galsim works in terms of arcsec so pixel_scale brings you to 'orig_shape'\n",
    "    #After that we scale picture as we want but with value init_size/(desired_size-2)\n",
    "    image_64x64= gal.drawImage(scale=pixel_scale*orig_shape/(image_size-2) ,\n",
    "                               use_true_center=True, method='auto').array\n",
    "    \n",
    "    #This is needed to define SNR\n",
    "    maxI_4= (cv2.resize(image_64x64, dsize=(16, 16), interpolation=cv2.INTER_CUBIC)).max()\n",
    "    \n",
    "    #Extraction of noise sigma from edges of the image\n",
    "    noise=Manual_noise_extraction(image_64x64)\n",
    "    \n",
    "    #Dict with image parameters and scaling data\n",
    "    parameters=cat.getParametricRecord(index)\n",
    "    parameters['COSMOS_noise_sigma']=np.sqrt(noise_variance)\n",
    "    parameters['flux']=gal.flux\n",
    "    parameters['Manual_noise_sigma']=noise\n",
    "    parameters['maxI_4_CV']=maxI_4\n",
    "    parameters['Original_size']=orig_shape\n",
    "    \n",
    "    return parameters,image_64x64\n",
    "\n",
    "def Show_100(galaxies):\n",
    "    plt.figure(figsize=(20,20))\n",
    "    gal_to_see=galaxies[:100]\n",
    "    for i in range(len(gal_to_see)):\n",
    "        x=i//10\n",
    "        y=np.mod(i,10)\n",
    "        ax = plt.subplot2grid((10,10), (x,y))\n",
    "        ax.imshow(gal_to_see[i],cmap='gray_r')\n",
    "        ax.axis('off')\n",
    "    plt.show()"
   ]
  },
  {
   "cell_type": "markdown",
   "metadata": {},
   "source": [
    "# Get Data"
   ]
  },
  {
   "cell_type": "code",
   "execution_count": 5,
   "metadata": {},
   "outputs": [
    {
     "name": "stderr",
     "output_type": "stream",
     "text": [
      "100%|██████████| 10000/10000 [54:30<00:00,  2.57it/s] \n"
     ]
    }
   ],
   "source": [
    "#Set the index to start from and the index to end on\n",
    "start=30000\n",
    "stop=40000\n",
    "images_galaxy=np.zeros((0,64,64))\n",
    "df=pd.DataFrame()\n",
    "for index in tqdm(range(start,stop)):\n",
    "    result=Process_galaxy(index)\n",
    "    \n",
    "    #Check whether galaxy have proper shape\n",
    "    if result==False:\n",
    "        continue\n",
    "    \n",
    "    parameters, image = result\n",
    "    \n",
    "    #Push results to storages\n",
    "    df=df.append([parameters])\n",
    "    images_galaxy=np.append(images_galaxy,[image],axis=0)"
   ]
  },
  {
   "cell_type": "code",
   "execution_count": null,
   "metadata": {},
   "outputs": [],
   "source": [
    "#Save collected data"
   ]
  },
  {
   "cell_type": "code",
   "execution_count": 6,
   "metadata": {},
   "outputs": [],
   "source": [
    "df.to_csv('Dataset_23_5/Dataset_labels_20.csv')"
   ]
  },
  {
   "cell_type": "code",
   "execution_count": 7,
   "metadata": {},
   "outputs": [],
   "source": [
    "np.save('Dataset_23_5/Dataset_images_20.npy',images_galaxy)"
   ]
  }
 ],
 "metadata": {
  "kernelspec": {
   "display_name": "Python 3",
   "language": "python",
   "name": "python3"
  },
  "language_info": {
   "codemirror_mode": {
    "name": "ipython",
    "version": 3
   },
   "file_extension": ".py",
   "mimetype": "text/x-python",
   "name": "python",
   "nbconvert_exporter": "python",
   "pygments_lexer": "ipython3",
   "version": "3.7.9"
  }
 },
 "nbformat": 4,
 "nbformat_minor": 2
}
