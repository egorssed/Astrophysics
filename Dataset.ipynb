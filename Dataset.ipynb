{
 "cells": [
  {
   "cell_type": "code",
   "execution_count": 1,
   "metadata": {},
   "outputs": [],
   "source": [
    "import matplotlib.pyplot as plt\n",
    "import numpy as np\n",
    "import pandas as pd\n",
    "import galsim\n",
    "import galsim_dataset as GalGenerate"
   ]
  },
  {
   "cell_type": "code",
   "execution_count": 2,
   "metadata": {},
   "outputs": [
    {
     "name": "stdout",
     "output_type": "stream",
     "text": [
      "numbers\n"
     ]
    }
   ],
   "source": [
    "images,_=GalGenerate.get_galaxy(64,0.03,number_start=0,number_stop=81499)"
   ]
  },
  {
   "cell_type": "markdown",
   "metadata": {},
   "source": [
    "## Сохрани картинки в фитс"
   ]
  },
  {
   "cell_type": "code",
   "execution_count": 10,
   "metadata": {},
   "outputs": [],
   "source": [
    "from astropy.table import Table\n",
    "from astropy.io import fits\n",
    "\n",
    "hdr = fits.Header()\n",
    "hdr['DataFrom'] = 'COSMOS'\n",
    "hdr['Dataset'] = 'Danilov Egor'\n",
    "hdr['ImNumber'] = 29872\n",
    "hdr['ImShape'] = 64\n",
    "\n",
    "empty_primary = fits.PrimaryHDU(header=hdr)\n",
    "hdus=[fits.ImageHDU(images[i]) for i in range(0,len(images))]\n",
    "hdul = fits.HDUList([empty_primary]+hdus)\n",
    "hdul.writeto('Galaxies64.fits')"
   ]
  },
  {
   "cell_type": "code",
   "execution_count": 6,
   "metadata": {},
   "outputs": [
    {
     "data": {
      "text/plain": [
       "29872"
      ]
     },
     "execution_count": 6,
     "metadata": {},
     "output_type": "execute_result"
    }
   ],
   "source": [
    "len(param_records)"
   ]
  },
  {
   "cell_type": "code",
   "execution_count": 43,
   "metadata": {},
   "outputs": [
    {
     "data": {
      "text/html": [
       "<div>\n",
       "<style scoped>\n",
       "    .dataframe tbody tr th:only-of-type {\n",
       "        vertical-align: middle;\n",
       "    }\n",
       "\n",
       "    .dataframe tbody tr th {\n",
       "        vertical-align: top;\n",
       "    }\n",
       "\n",
       "    .dataframe thead th {\n",
       "        text-align: right;\n",
       "    }\n",
       "</style>\n",
       "<table border=\"1\" class=\"dataframe\">\n",
       "  <thead>\n",
       "    <tr style=\"text-align: right;\">\n",
       "      <th></th>\n",
       "      <th>IDENT</th>\n",
       "      <th>bulgefit</th>\n",
       "      <th>fit_dvc_btt</th>\n",
       "      <th>fit_mad_b</th>\n",
       "      <th>fit_mad_s</th>\n",
       "      <th>fit_status</th>\n",
       "      <th>flux</th>\n",
       "      <th>flux_radius</th>\n",
       "      <th>hlr</th>\n",
       "      <th>mag_auto</th>\n",
       "      <th>noise_sigma</th>\n",
       "      <th>sersicfit</th>\n",
       "      <th>use_bulgefit</th>\n",
       "      <th>viable_sersic</th>\n",
       "      <th>zphot</th>\n",
       "    </tr>\n",
       "  </thead>\n",
       "  <tbody>\n",
       "    <tr>\n",
       "      <th>0</th>\n",
       "      <td>52167</td>\n",
       "      <td>[5.77872795e-03 1.96095310e+01 1.00000000e+00 ...</td>\n",
       "      <td>0.037448</td>\n",
       "      <td>0.002725</td>\n",
       "      <td>0.002748</td>\n",
       "      <td>[1 1 1 4 1]</td>\n",
       "      <td>13.870001</td>\n",
       "      <td>14.171382</td>\n",
       "      <td>[0.3842748 0.        0.       ]</td>\n",
       "      <td>23.126625</td>\n",
       "      <td>0.002752</td>\n",
       "      <td>[7.21210624e-03 1.75315713e+01 9.38620061e-01 ...</td>\n",
       "      <td>0</td>\n",
       "      <td>1</td>\n",
       "      <td>1.0190</td>\n",
       "    </tr>\n",
       "    <tr>\n",
       "      <th>1</th>\n",
       "      <td>70378</td>\n",
       "      <td>[4.06677774e-03 2.04162254e+01 1.00000000e+00 ...</td>\n",
       "      <td>0.000000</td>\n",
       "      <td>0.002296</td>\n",
       "      <td>0.002167</td>\n",
       "      <td>[1 1 1 1 1]</td>\n",
       "      <td>9.095281</td>\n",
       "      <td>13.591013</td>\n",
       "      <td>[0.35865763 0.         0.        ]</td>\n",
       "      <td>23.618082</td>\n",
       "      <td>0.002463</td>\n",
       "      <td>[6.53487127e-03 1.70895822e+01 4.69743605e-01 ...</td>\n",
       "      <td>0</td>\n",
       "      <td>1</td>\n",
       "      <td>1.0312</td>\n",
       "    </tr>\n",
       "    <tr>\n",
       "      <th>2</th>\n",
       "      <td>1007568</td>\n",
       "      <td>[1.16696686e-03 3.03907079e+01 1.00000000e+00 ...</td>\n",
       "      <td>0.019940</td>\n",
       "      <td>0.002698</td>\n",
       "      <td>0.003185</td>\n",
       "      <td>[1 1 1 1 1]</td>\n",
       "      <td>4.082829</td>\n",
       "      <td>16.072845</td>\n",
       "      <td>[0.49243971 0.         0.        ]</td>\n",
       "      <td>24.153313</td>\n",
       "      <td>0.002885</td>\n",
       "      <td>[2.17138371e-03 2.55583606e+01 3.08959347e-01 ...</td>\n",
       "      <td>0</td>\n",
       "      <td>1</td>\n",
       "      <td>1.4328</td>\n",
       "    </tr>\n",
       "    <tr>\n",
       "      <th>3</th>\n",
       "      <td>26720</td>\n",
       "      <td>[9.76689433e-02 2.34367997e+01 1.00000000e+00 ...</td>\n",
       "      <td>0.350235</td>\n",
       "      <td>0.004489</td>\n",
       "      <td>0.004106</td>\n",
       "      <td>[1 1 1 1 1]</td>\n",
       "      <td>310.784361</td>\n",
       "      <td>15.969330</td>\n",
       "      <td>[0.41822646 0.         0.        ]</td>\n",
       "      <td>19.844151</td>\n",
       "      <td>0.004105</td>\n",
       "      <td>[1.01607584e-01 2.31481076e+01 1.64348935e+00 ...</td>\n",
       "      <td>0</td>\n",
       "      <td>1</td>\n",
       "      <td>0.3197</td>\n",
       "    </tr>\n",
       "    <tr>\n",
       "      <th>4</th>\n",
       "      <td>38156</td>\n",
       "      <td>[2.65429596e-03 2.79480291e+01 1.00000000e+00 ...</td>\n",
       "      <td>0.022316</td>\n",
       "      <td>0.002287</td>\n",
       "      <td>0.002273</td>\n",
       "      <td>[1 1 1 1 1]</td>\n",
       "      <td>8.712471</td>\n",
       "      <td>16.333925</td>\n",
       "      <td>[0.48535305 0.         0.        ]</td>\n",
       "      <td>23.774839</td>\n",
       "      <td>0.002825</td>\n",
       "      <td>[ 2.84735957e-03  2.71117087e+01  1.00088393e+...</td>\n",
       "      <td>0</td>\n",
       "      <td>1</td>\n",
       "      <td>0.4832</td>\n",
       "    </tr>\n",
       "  </tbody>\n",
       "</table>\n",
       "</div>"
      ],
      "text/plain": [
       "     IDENT                                           bulgefit  fit_dvc_btt  \\\n",
       "0    52167  [5.77872795e-03 1.96095310e+01 1.00000000e+00 ...     0.037448   \n",
       "1    70378  [4.06677774e-03 2.04162254e+01 1.00000000e+00 ...     0.000000   \n",
       "2  1007568  [1.16696686e-03 3.03907079e+01 1.00000000e+00 ...     0.019940   \n",
       "3    26720  [9.76689433e-02 2.34367997e+01 1.00000000e+00 ...     0.350235   \n",
       "4    38156  [2.65429596e-03 2.79480291e+01 1.00000000e+00 ...     0.022316   \n",
       "\n",
       "   fit_mad_b  fit_mad_s   fit_status        flux  flux_radius  \\\n",
       "0   0.002725   0.002748  [1 1 1 4 1]   13.870001    14.171382   \n",
       "1   0.002296   0.002167  [1 1 1 1 1]    9.095281    13.591013   \n",
       "2   0.002698   0.003185  [1 1 1 1 1]    4.082829    16.072845   \n",
       "3   0.004489   0.004106  [1 1 1 1 1]  310.784361    15.969330   \n",
       "4   0.002287   0.002273  [1 1 1 1 1]    8.712471    16.333925   \n",
       "\n",
       "                                  hlr   mag_auto  noise_sigma  \\\n",
       "0     [0.3842748 0.        0.       ]  23.126625     0.002752   \n",
       "1  [0.35865763 0.         0.        ]  23.618082     0.002463   \n",
       "2  [0.49243971 0.         0.        ]  24.153313     0.002885   \n",
       "3  [0.41822646 0.         0.        ]  19.844151     0.004105   \n",
       "4  [0.48535305 0.         0.        ]  23.774839     0.002825   \n",
       "\n",
       "                                           sersicfit  use_bulgefit  \\\n",
       "0  [7.21210624e-03 1.75315713e+01 9.38620061e-01 ...             0   \n",
       "1  [6.53487127e-03 1.70895822e+01 4.69743605e-01 ...             0   \n",
       "2  [2.17138371e-03 2.55583606e+01 3.08959347e-01 ...             0   \n",
       "3  [1.01607584e-01 2.31481076e+01 1.64348935e+00 ...             0   \n",
       "4  [ 2.84735957e-03  2.71117087e+01  1.00088393e+...             0   \n",
       "\n",
       "   viable_sersic   zphot  \n",
       "0              1  1.0190  \n",
       "1              1  1.0312  \n",
       "2              1  1.4328  \n",
       "3              1  0.3197  \n",
       "4              1  0.4832  "
      ]
     },
     "execution_count": 43,
     "metadata": {},
     "output_type": "execute_result"
    }
   ],
   "source": [
    "df_par=pd.read_csv('galaxies_parameters.zip',compression='zip',index_col=0)  \n",
    "df_par.head()"
   ]
  },
  {
   "cell_type": "markdown",
   "metadata": {},
   "source": [
    "# Downscaling for SNR"
   ]
  },
  {
   "cell_type": "code",
   "execution_count": 13,
   "metadata": {},
   "outputs": [],
   "source": [
    "import cv2"
   ]
  },
  {
   "cell_type": "code",
   "execution_count": 45,
   "metadata": {},
   "outputs": [
    {
     "data": {
      "text/html": [
       "<div>\n",
       "<style scoped>\n",
       "    .dataframe tbody tr th:only-of-type {\n",
       "        vertical-align: middle;\n",
       "    }\n",
       "\n",
       "    .dataframe tbody tr th {\n",
       "        vertical-align: top;\n",
       "    }\n",
       "\n",
       "    .dataframe thead th {\n",
       "        text-align: right;\n",
       "    }\n",
       "</style>\n",
       "<table border=\"1\" class=\"dataframe\">\n",
       "  <thead>\n",
       "    <tr style=\"text-align: right;\">\n",
       "      <th></th>\n",
       "      <th>IDENT</th>\n",
       "      <th>bulgefit</th>\n",
       "      <th>fit_dvc_btt</th>\n",
       "      <th>fit_mad_b</th>\n",
       "      <th>fit_mad_s</th>\n",
       "      <th>fit_status</th>\n",
       "      <th>flux</th>\n",
       "      <th>flux_radius</th>\n",
       "      <th>hlr</th>\n",
       "      <th>mag_auto</th>\n",
       "      <th>noise_sigma</th>\n",
       "      <th>sersicfit</th>\n",
       "      <th>use_bulgefit</th>\n",
       "      <th>viable_sersic</th>\n",
       "      <th>zphot</th>\n",
       "    </tr>\n",
       "  </thead>\n",
       "  <tbody>\n",
       "    <tr>\n",
       "      <th>0</th>\n",
       "      <td>52167</td>\n",
       "      <td>[5.77872795e-03 1.96095310e+01 1.00000000e+00 ...</td>\n",
       "      <td>0.037448</td>\n",
       "      <td>0.002725</td>\n",
       "      <td>0.002748</td>\n",
       "      <td>[1 1 1 4 1]</td>\n",
       "      <td>13.870001</td>\n",
       "      <td>14.171382</td>\n",
       "      <td>[0.3842748 0.        0.       ]</td>\n",
       "      <td>23.126625</td>\n",
       "      <td>0.002752</td>\n",
       "      <td>[7.21210624e-03 1.75315713e+01 9.38620061e-01 ...</td>\n",
       "      <td>0</td>\n",
       "      <td>1</td>\n",
       "      <td>1.0190</td>\n",
       "    </tr>\n",
       "    <tr>\n",
       "      <th>1</th>\n",
       "      <td>70378</td>\n",
       "      <td>[4.06677774e-03 2.04162254e+01 1.00000000e+00 ...</td>\n",
       "      <td>0.000000</td>\n",
       "      <td>0.002296</td>\n",
       "      <td>0.002167</td>\n",
       "      <td>[1 1 1 1 1]</td>\n",
       "      <td>9.095281</td>\n",
       "      <td>13.591013</td>\n",
       "      <td>[0.35865763 0.         0.        ]</td>\n",
       "      <td>23.618082</td>\n",
       "      <td>0.002463</td>\n",
       "      <td>[6.53487127e-03 1.70895822e+01 4.69743605e-01 ...</td>\n",
       "      <td>0</td>\n",
       "      <td>1</td>\n",
       "      <td>1.0312</td>\n",
       "    </tr>\n",
       "    <tr>\n",
       "      <th>2</th>\n",
       "      <td>1007568</td>\n",
       "      <td>[1.16696686e-03 3.03907079e+01 1.00000000e+00 ...</td>\n",
       "      <td>0.019940</td>\n",
       "      <td>0.002698</td>\n",
       "      <td>0.003185</td>\n",
       "      <td>[1 1 1 1 1]</td>\n",
       "      <td>4.082829</td>\n",
       "      <td>16.072845</td>\n",
       "      <td>[0.49243971 0.         0.        ]</td>\n",
       "      <td>24.153313</td>\n",
       "      <td>0.002885</td>\n",
       "      <td>[2.17138371e-03 2.55583606e+01 3.08959347e-01 ...</td>\n",
       "      <td>0</td>\n",
       "      <td>1</td>\n",
       "      <td>1.4328</td>\n",
       "    </tr>\n",
       "    <tr>\n",
       "      <th>3</th>\n",
       "      <td>26720</td>\n",
       "      <td>[9.76689433e-02 2.34367997e+01 1.00000000e+00 ...</td>\n",
       "      <td>0.350235</td>\n",
       "      <td>0.004489</td>\n",
       "      <td>0.004106</td>\n",
       "      <td>[1 1 1 1 1]</td>\n",
       "      <td>310.784361</td>\n",
       "      <td>15.969330</td>\n",
       "      <td>[0.41822646 0.         0.        ]</td>\n",
       "      <td>19.844151</td>\n",
       "      <td>0.004105</td>\n",
       "      <td>[1.01607584e-01 2.31481076e+01 1.64348935e+00 ...</td>\n",
       "      <td>0</td>\n",
       "      <td>1</td>\n",
       "      <td>0.3197</td>\n",
       "    </tr>\n",
       "    <tr>\n",
       "      <th>4</th>\n",
       "      <td>38156</td>\n",
       "      <td>[2.65429596e-03 2.79480291e+01 1.00000000e+00 ...</td>\n",
       "      <td>0.022316</td>\n",
       "      <td>0.002287</td>\n",
       "      <td>0.002273</td>\n",
       "      <td>[1 1 1 1 1]</td>\n",
       "      <td>8.712471</td>\n",
       "      <td>16.333925</td>\n",
       "      <td>[0.48535305 0.         0.        ]</td>\n",
       "      <td>23.774839</td>\n",
       "      <td>0.002825</td>\n",
       "      <td>[ 2.84735957e-03  2.71117087e+01  1.00088393e+...</td>\n",
       "      <td>0</td>\n",
       "      <td>1</td>\n",
       "      <td>0.4832</td>\n",
       "    </tr>\n",
       "  </tbody>\n",
       "</table>\n",
       "</div>"
      ],
      "text/plain": [
       "     IDENT                                           bulgefit  fit_dvc_btt  \\\n",
       "0    52167  [5.77872795e-03 1.96095310e+01 1.00000000e+00 ...     0.037448   \n",
       "1    70378  [4.06677774e-03 2.04162254e+01 1.00000000e+00 ...     0.000000   \n",
       "2  1007568  [1.16696686e-03 3.03907079e+01 1.00000000e+00 ...     0.019940   \n",
       "3    26720  [9.76689433e-02 2.34367997e+01 1.00000000e+00 ...     0.350235   \n",
       "4    38156  [2.65429596e-03 2.79480291e+01 1.00000000e+00 ...     0.022316   \n",
       "\n",
       "   fit_mad_b  fit_mad_s   fit_status        flux  flux_radius  \\\n",
       "0   0.002725   0.002748  [1 1 1 4 1]   13.870001    14.171382   \n",
       "1   0.002296   0.002167  [1 1 1 1 1]    9.095281    13.591013   \n",
       "2   0.002698   0.003185  [1 1 1 1 1]    4.082829    16.072845   \n",
       "3   0.004489   0.004106  [1 1 1 1 1]  310.784361    15.969330   \n",
       "4   0.002287   0.002273  [1 1 1 1 1]    8.712471    16.333925   \n",
       "\n",
       "                                  hlr   mag_auto  noise_sigma  \\\n",
       "0     [0.3842748 0.        0.       ]  23.126625     0.002752   \n",
       "1  [0.35865763 0.         0.        ]  23.618082     0.002463   \n",
       "2  [0.49243971 0.         0.        ]  24.153313     0.002885   \n",
       "3  [0.41822646 0.         0.        ]  19.844151     0.004105   \n",
       "4  [0.48535305 0.         0.        ]  23.774839     0.002825   \n",
       "\n",
       "                                           sersicfit  use_bulgefit  \\\n",
       "0  [7.21210624e-03 1.75315713e+01 9.38620061e-01 ...             0   \n",
       "1  [6.53487127e-03 1.70895822e+01 4.69743605e-01 ...             0   \n",
       "2  [2.17138371e-03 2.55583606e+01 3.08959347e-01 ...             0   \n",
       "3  [1.01607584e-01 2.31481076e+01 1.64348935e+00 ...             0   \n",
       "4  [ 2.84735957e-03  2.71117087e+01  1.00088393e+...             0   \n",
       "\n",
       "   viable_sersic   zphot  \n",
       "0              1  1.0190  \n",
       "1              1  1.0312  \n",
       "2              1  1.4328  \n",
       "3              1  0.3197  \n",
       "4              1  0.4832  "
      ]
     },
     "execution_count": 45,
     "metadata": {},
     "output_type": "execute_result"
    }
   ],
   "source": [
    "df_par.head()"
   ]
  },
  {
   "cell_type": "code",
   "execution_count": 124,
   "metadata": {},
   "outputs": [],
   "source": [
    "maxI_4=np.zeros(len(images))\n",
    "for i,item in enumerate(images):\n",
    "    maxI_4[i]=(cv2.resize(item, dsize=(16, 16), interpolation=cv2.INTER_CUBIC)).max()"
   ]
  },
  {
   "cell_type": "code",
   "execution_count": 125,
   "metadata": {},
   "outputs": [],
   "source": [
    "SNR=maxI_4/df_par.noise_sigma.values"
   ]
  },
  {
   "cell_type": "code",
   "execution_count": 126,
   "metadata": {},
   "outputs": [],
   "source": [
    "df_par['SNR']=SNR"
   ]
  },
  {
   "cell_type": "code",
   "execution_count": 127,
   "metadata": {
    "scrolled": true
   },
   "outputs": [
    {
     "data": {
      "text/html": [
       "<div>\n",
       "<style scoped>\n",
       "    .dataframe tbody tr th:only-of-type {\n",
       "        vertical-align: middle;\n",
       "    }\n",
       "\n",
       "    .dataframe tbody tr th {\n",
       "        vertical-align: top;\n",
       "    }\n",
       "\n",
       "    .dataframe thead th {\n",
       "        text-align: right;\n",
       "    }\n",
       "</style>\n",
       "<table border=\"1\" class=\"dataframe\">\n",
       "  <thead>\n",
       "    <tr style=\"text-align: right;\">\n",
       "      <th></th>\n",
       "      <th>IDENT</th>\n",
       "      <th>bulgefit</th>\n",
       "      <th>fit_dvc_btt</th>\n",
       "      <th>fit_mad_b</th>\n",
       "      <th>fit_mad_s</th>\n",
       "      <th>fit_status</th>\n",
       "      <th>flux</th>\n",
       "      <th>flux_radius</th>\n",
       "      <th>hlr</th>\n",
       "      <th>mag_auto</th>\n",
       "      <th>noise_sigma</th>\n",
       "      <th>sersicfit</th>\n",
       "      <th>use_bulgefit</th>\n",
       "      <th>viable_sersic</th>\n",
       "      <th>zphot</th>\n",
       "      <th>SNR</th>\n",
       "    </tr>\n",
       "  </thead>\n",
       "  <tbody>\n",
       "    <tr>\n",
       "      <th>0</th>\n",
       "      <td>52167</td>\n",
       "      <td>[5.77872795e-03 1.96095310e+01 1.00000000e+00 ...</td>\n",
       "      <td>0.037448</td>\n",
       "      <td>0.002725</td>\n",
       "      <td>0.002748</td>\n",
       "      <td>[1 1 1 4 1]</td>\n",
       "      <td>13.870001</td>\n",
       "      <td>14.171382</td>\n",
       "      <td>[0.3842748 0.        0.       ]</td>\n",
       "      <td>23.126625</td>\n",
       "      <td>0.002752</td>\n",
       "      <td>[7.21210624e-03 1.75315713e+01 9.38620061e-01 ...</td>\n",
       "      <td>0</td>\n",
       "      <td>1</td>\n",
       "      <td>1.0190</td>\n",
       "      <td>9.329016</td>\n",
       "    </tr>\n",
       "    <tr>\n",
       "      <th>1</th>\n",
       "      <td>70378</td>\n",
       "      <td>[4.06677774e-03 2.04162254e+01 1.00000000e+00 ...</td>\n",
       "      <td>0.000000</td>\n",
       "      <td>0.002296</td>\n",
       "      <td>0.002167</td>\n",
       "      <td>[1 1 1 1 1]</td>\n",
       "      <td>9.095281</td>\n",
       "      <td>13.591013</td>\n",
       "      <td>[0.35865763 0.         0.        ]</td>\n",
       "      <td>23.618082</td>\n",
       "      <td>0.002463</td>\n",
       "      <td>[6.53487127e-03 1.70895822e+01 4.69743605e-01 ...</td>\n",
       "      <td>0</td>\n",
       "      <td>1</td>\n",
       "      <td>1.0312</td>\n",
       "      <td>6.389424</td>\n",
       "    </tr>\n",
       "    <tr>\n",
       "      <th>2</th>\n",
       "      <td>1007568</td>\n",
       "      <td>[1.16696686e-03 3.03907079e+01 1.00000000e+00 ...</td>\n",
       "      <td>0.019940</td>\n",
       "      <td>0.002698</td>\n",
       "      <td>0.003185</td>\n",
       "      <td>[1 1 1 1 1]</td>\n",
       "      <td>4.082829</td>\n",
       "      <td>16.072845</td>\n",
       "      <td>[0.49243971 0.         0.        ]</td>\n",
       "      <td>24.153313</td>\n",
       "      <td>0.002885</td>\n",
       "      <td>[2.17138371e-03 2.55583606e+01 3.08959347e-01 ...</td>\n",
       "      <td>0</td>\n",
       "      <td>1</td>\n",
       "      <td>1.4328</td>\n",
       "      <td>4.314875</td>\n",
       "    </tr>\n",
       "    <tr>\n",
       "      <th>3</th>\n",
       "      <td>26720</td>\n",
       "      <td>[9.76689433e-02 2.34367997e+01 1.00000000e+00 ...</td>\n",
       "      <td>0.350235</td>\n",
       "      <td>0.004489</td>\n",
       "      <td>0.004106</td>\n",
       "      <td>[1 1 1 1 1]</td>\n",
       "      <td>310.784361</td>\n",
       "      <td>15.969330</td>\n",
       "      <td>[0.41822646 0.         0.        ]</td>\n",
       "      <td>19.844151</td>\n",
       "      <td>0.004105</td>\n",
       "      <td>[1.01607584e-01 2.31481076e+01 1.64348935e+00 ...</td>\n",
       "      <td>0</td>\n",
       "      <td>1</td>\n",
       "      <td>0.3197</td>\n",
       "      <td>123.454781</td>\n",
       "    </tr>\n",
       "    <tr>\n",
       "      <th>4</th>\n",
       "      <td>38156</td>\n",
       "      <td>[2.65429596e-03 2.79480291e+01 1.00000000e+00 ...</td>\n",
       "      <td>0.022316</td>\n",
       "      <td>0.002287</td>\n",
       "      <td>0.002273</td>\n",
       "      <td>[1 1 1 1 1]</td>\n",
       "      <td>8.712471</td>\n",
       "      <td>16.333925</td>\n",
       "      <td>[0.48535305 0.         0.        ]</td>\n",
       "      <td>23.774839</td>\n",
       "      <td>0.002825</td>\n",
       "      <td>[ 2.84735957e-03  2.71117087e+01  1.00088393e+...</td>\n",
       "      <td>0</td>\n",
       "      <td>1</td>\n",
       "      <td>0.4832</td>\n",
       "      <td>6.311334</td>\n",
       "    </tr>\n",
       "  </tbody>\n",
       "</table>\n",
       "</div>"
      ],
      "text/plain": [
       "     IDENT                                           bulgefit  fit_dvc_btt  \\\n",
       "0    52167  [5.77872795e-03 1.96095310e+01 1.00000000e+00 ...     0.037448   \n",
       "1    70378  [4.06677774e-03 2.04162254e+01 1.00000000e+00 ...     0.000000   \n",
       "2  1007568  [1.16696686e-03 3.03907079e+01 1.00000000e+00 ...     0.019940   \n",
       "3    26720  [9.76689433e-02 2.34367997e+01 1.00000000e+00 ...     0.350235   \n",
       "4    38156  [2.65429596e-03 2.79480291e+01 1.00000000e+00 ...     0.022316   \n",
       "\n",
       "   fit_mad_b  fit_mad_s   fit_status        flux  flux_radius  \\\n",
       "0   0.002725   0.002748  [1 1 1 4 1]   13.870001    14.171382   \n",
       "1   0.002296   0.002167  [1 1 1 1 1]    9.095281    13.591013   \n",
       "2   0.002698   0.003185  [1 1 1 1 1]    4.082829    16.072845   \n",
       "3   0.004489   0.004106  [1 1 1 1 1]  310.784361    15.969330   \n",
       "4   0.002287   0.002273  [1 1 1 1 1]    8.712471    16.333925   \n",
       "\n",
       "                                  hlr   mag_auto  noise_sigma  \\\n",
       "0     [0.3842748 0.        0.       ]  23.126625     0.002752   \n",
       "1  [0.35865763 0.         0.        ]  23.618082     0.002463   \n",
       "2  [0.49243971 0.         0.        ]  24.153313     0.002885   \n",
       "3  [0.41822646 0.         0.        ]  19.844151     0.004105   \n",
       "4  [0.48535305 0.         0.        ]  23.774839     0.002825   \n",
       "\n",
       "                                           sersicfit  use_bulgefit  \\\n",
       "0  [7.21210624e-03 1.75315713e+01 9.38620061e-01 ...             0   \n",
       "1  [6.53487127e-03 1.70895822e+01 4.69743605e-01 ...             0   \n",
       "2  [2.17138371e-03 2.55583606e+01 3.08959347e-01 ...             0   \n",
       "3  [1.01607584e-01 2.31481076e+01 1.64348935e+00 ...             0   \n",
       "4  [ 2.84735957e-03  2.71117087e+01  1.00088393e+...             0   \n",
       "\n",
       "   viable_sersic   zphot         SNR  \n",
       "0              1  1.0190    9.329016  \n",
       "1              1  1.0312    6.389424  \n",
       "2              1  1.4328    4.314875  \n",
       "3              1  0.3197  123.454781  \n",
       "4              1  0.4832    6.311334  "
      ]
     },
     "execution_count": 127,
     "metadata": {},
     "output_type": "execute_result"
    }
   ],
   "source": [
    "df_par.head()"
   ]
  },
  {
   "cell_type": "code",
   "execution_count": 132,
   "metadata": {},
   "outputs": [],
   "source": [
    "df_par.to_csv('parameters.csv')"
   ]
  },
  {
   "cell_type": "code",
   "execution_count": null,
   "metadata": {},
   "outputs": [],
   "source": []
  },
  {
   "cell_type": "code",
   "execution_count": null,
   "metadata": {},
   "outputs": [],
   "source": []
  },
  {
   "cell_type": "code",
   "execution_count": null,
   "metadata": {},
   "outputs": [],
   "source": []
  },
  {
   "cell_type": "code",
   "execution_count": null,
   "metadata": {},
   "outputs": [],
   "source": []
  },
  {
   "cell_type": "code",
   "execution_count": 50,
   "metadata": {},
   "outputs": [
    {
     "data": {
      "text/plain": [
       "6637.673051684426"
      ]
     },
     "execution_count": 50,
     "metadata": {},
     "output_type": "execute_result"
    }
   ],
   "source": [
    "SNR.max()"
   ]
  },
  {
   "cell_type": "code",
   "execution_count": 51,
   "metadata": {},
   "outputs": [
    {
     "data": {
      "text/plain": [
       "2.0163572602396984"
      ]
     },
     "execution_count": 51,
     "metadata": {},
     "output_type": "execute_result"
    }
   ],
   "source": [
    "SNR.min()"
   ]
  },
  {
   "cell_type": "code",
   "execution_count": 52,
   "metadata": {},
   "outputs": [
    {
     "data": {
      "text/plain": [
       "(0.0, 100.0)"
      ]
     },
     "execution_count": 52,
     "metadata": {},
     "output_type": "execute_result"
    },
    {
     "data": {
      "image/png": "[encoded data removed]",
      "text/plain": [
       "<Figure size 432x288 with 1 Axes>"
      ]
     },
     "metadata": {
      "needs_background": "light"
     },
     "output_type": "display_data"
    }
   ],
   "source": [
    "plt.hist(SNR,bins=1000)\n",
    "plt.xlim(0,100)"
   ]
  },
  {
   "cell_type": "code",
   "execution_count": 57,
   "metadata": {},
   "outputs": [],
   "source": [
    "import seaborn as sns"
   ]
  },
  {
   "cell_type": "code",
   "execution_count": 95,
   "metadata": {},
   "outputs": [
    {
     "data": {
      "text/plain": [
       "27259"
      ]
     },
     "execution_count": 95,
     "metadata": {},
     "output_type": "execute_result"
    }
   ],
   "source": [
    "inf=0\n",
    "sup=100\n",
    "SNR_lim=SNR[(SNR>=inf) & (SNR<=sup)]\n",
    "SNR_lim.sort()\n",
    "len(SNR_lim)"
   ]
  },
  {
   "cell_type": "code",
   "execution_count": 96,
   "metadata": {},
   "outputs": [
    {
     "data": {
      "image/png": "[encoded data removed]",
      "text/plain": [
       "<Figure size 432x288 with 1 Axes>"
      ]
     },
     "metadata": {
      "needs_background": "light"
     },
     "output_type": "display_data"
    }
   ],
   "source": [
    "plt.hist(SNR_lim,bins=100)\n",
    "plt.xlabel('Signal to noise ratio')\n",
    "plt.ylabel('Number of galaxies')\n",
    "plt.show()"
   ]
  },
  {
   "cell_type": "code",
   "execution_count": 112,
   "metadata": {},
   "outputs": [],
   "source": [
    "p = 1. * np.arange(len(SNR_lim))"
   ]
  },
  {
   "cell_type": "code",
   "execution_count": 121,
   "metadata": {},
   "outputs": [
    {
     "data": {
      "image/png": "[encoded data removed]",
      "text/plain": [
       "<Figure size 432x288 with 1 Axes>"
      ]
     },
     "metadata": {
      "needs_background": "light"
     },
     "output_type": "display_data"
    }
   ],
   "source": [
    "plt.plot(SNR_lim,p)\n",
    "plt.grid()\n",
    "plt.title('Cumulative distribution function')\n",
    "plt.xlabel('Signal to noise ratio')\n",
    "plt.ylabel('Number of galaxies')\n",
    "plt.xticks(np.arange(0,110,10))\n",
    "plt.savefig('CDF_for_SNR.jpg',dpi=500)\n",
    "plt.show()"
   ]
  },
  {
   "cell_type": "code",
   "execution_count": 23,
   "metadata": {},
   "outputs": [
    {
     "data": {
      "text/plain": [
       "(29873,)"
      ]
     },
     "execution_count": 23,
     "metadata": {},
     "output_type": "execute_result"
    }
   ],
   "source": [
    "maxI_4.shape"
   ]
  },
  {
   "cell_type": "code",
   "execution_count": 15,
   "metadata": {},
   "outputs": [
    {
     "data": {
      "text/plain": [
       "0.02567659849592019"
      ]
     },
     "execution_count": 15,
     "metadata": {},
     "output_type": "execute_result"
    }
   ],
   "source": [
    "Flux_downscaled_4"
   ]
  },
  {
   "cell_type": "code",
   "execution_count": 30,
   "metadata": {},
   "outputs": [],
   "source": [
    "SNR=(df_par.flux/df_par.noise_sigma/np.pi/df_par.flux_radius**2).values\n",
    "SNR_ph=SNR[np.where((SNR>0) & (SNR<150))]"
   ]
  },
  {
   "cell_type": "code",
   "execution_count": 31,
   "metadata": {},
   "outputs": [
    {
     "data": {
      "text/plain": [
       "(0.0, 100.0)"
      ]
     },
     "execution_count": 31,
     "metadata": {},
     "output_type": "execute_result"
    },
    {
     "data": {
      "image/png": "[encoded data removed]",
      "text/plain": [
       "<Figure size 432x288 with 1 Axes>"
      ]
     },
     "metadata": {
      "needs_background": "light"
     },
     "output_type": "display_data"
    }
   ],
   "source": [
    "plt.hist(SNR_ph,bins=100)\n",
    "plt.xlim(0,100)"
   ]
  },
  {
   "cell_type": "code",
   "execution_count": 29,
   "metadata": {},
   "outputs": [
    {
     "data": {
      "text/plain": [
       "(8036,)"
      ]
     },
     "execution_count": 29,
     "metadata": {},
     "output_type": "execute_result"
    }
   ],
   "source": [
    "SNR_ph.shape"
   ]
  },
  {
   "cell_type": "code",
   "execution_count": null,
   "metadata": {},
   "outputs": [],
   "source": []
  },
  {
   "cell_type": "code",
   "execution_count": null,
   "metadata": {},
   "outputs": [],
   "source": [
    "hdr = fits.Header()\n",
    "hdr['DataFrom'] = 'COSMOS'\n",
    "hdr['Dataset'] = 'Danilov Egor'\n",
    "hdr['ImNumber'] = len(images)\n",
    "hdr['ImShape'] = '64\n",
    "\n",
    "hdr['COMMENT'] = '''First is features table of galaxies presented. Then 7459 hdu files are images of galaxies in the same order as instances in the features table. Features are the same as presented for COSMOS galaxies in the original catalogue'''\n",
    "empty_primary = fits.PrimaryHDU(header=hdr)\n",
    "hdus=[fits.ImageHDU(images[i]) for i in range(0,len(images))]\n",
    "features=fits.BinTableHDU(Table(Features_dataset.to_numpy(), names=Features_dataset.columns))\n",
    "hdul = fits.HDUList([empty_primary]+[features]+hdus)\n",
    "hdul.writeto('Dataset.fits')"
   ]
  },
  {
   "cell_type": "code",
   "execution_count": 6,
   "metadata": {},
   "outputs": [
    {
     "data": {
      "text/plain": [
       "<matplotlib.image.AxesImage at 0x7fd65e618780>"
      ]
     },
     "execution_count": 6,
     "metadata": {},
     "output_type": "execute_result"
    },
    {
     "data": {
      "image/png": "[encoded data removed]",
      "text/plain": [
       "<Figure size 432x288 with 1 Axes>"
      ]
     },
     "metadata": {
      "needs_background": "light"
     },
     "output_type": "display_data"
    }
   ],
   "source": [
    "plt.imshow(images[-1],cmap='gray_r')"
   ]
  }
 ],
 "metadata": {
  "kernelspec": {
   "display_name": "Python 3",
   "language": "python",
   "name": "python3"
  },
  "language_info": {
   "codemirror_mode": {
    "name": "ipython",
    "version": 3
   },
   "file_extension": ".py",
   "mimetype": "text/x-python",
   "name": "python",
   "nbconvert_exporter": "python",
   "pygments_lexer": "ipython3",
   "version": "3.7.3"
  }
 },
 "nbformat": 4,
 "nbformat_minor": 2
}
