{
  "nbformat": 4,
  "nbformat_minor": 0,
  "metadata": {
    "colab": {
      "name": "Latent_space_prediction.ipynb",
      "provenance": [],
      "include_colab_link": true
    },
    "kernelspec": {
      "display_name": "Python 3",
      "language": "python",
      "name": "python3"
    },
    "language_info": {
      "codemirror_mode": {
        "name": "ipython",
        "version": 3
      },
      "file_extension": ".py",
      "mimetype": "text/x-python",
      "name": "python",
      "nbconvert_exporter": "python",
      "pygments_lexer": "ipython3",
      "version": "3.7.9"
    }
  },
  "cells": [
    {
      "cell_type": "markdown",
      "metadata": {
        "id": "view-in-github",
        "colab_type": "text"
      },
      "source": [
        "<a href=\"https://colab.research.google.com/github/egorssed/VAE_on_HST_galaxies/blob/main/Latent_space_prediction.ipynb\" target=\"_parent\"><img src=\"https://colab.research.google.com/assets/colab-badge.svg\" alt=\"Open In Colab\"/></a>"
      ]
    },
    {
      "cell_type": "code",
      "metadata": {
        "colab": {
          "base_uri": "https://localhost:8080/"
        },
        "id": "F3HgaTYHFv8t",
        "outputId": "e9e0bd0e-3d53-4611-c7d9-f5cee305b3aa"
      },
      "source": [
        "import numpy as np\n",
        "import pandas as pd\n",
        "from tqdm import tqdm\n",
        "import matplotlib.pyplot as plt\n",
        "from google.colab import drive\n",
        "drive.mount('/content/drive')\n",
        "Folder='/content/drive/My Drive/AstroLensing/'"
      ],
      "execution_count": 1,
      "outputs": [
        {
          "output_type": "stream",
          "text": [
            "Mounted at /content/drive\n"
          ],
          "name": "stdout"
        }
      ]
    },
    {
      "cell_type": "code",
      "metadata": {
        "id": "6KysJyo_Fv8w"
      },
      "source": [
        "y=pd.read_csv(Folder+\"DataSet/New_images/Dataset_labels_scaled_max.csv\",index_col=0)\n",
        "X=np.load(Folder+\"DataSet/Unnormalized_images//Latent_space.npy\")"
      ],
      "execution_count": 2,
      "outputs": []
    },
    {
      "cell_type": "code",
      "metadata": {
        "colab": {
          "base_uri": "https://localhost:8080/",
          "height": 224
        },
        "id": "GBt4yyBbFv8x",
        "outputId": "dfd9c3fe-5eb4-455e-d59d-e60609347b99"
      },
      "source": [
        "y.head()"
      ],
      "execution_count": 3,
      "outputs": [
        {
          "output_type": "execute_result",
          "data": {
            "text/html": [
              "<div>\n",
              "<style scoped>\n",
              "    .dataframe tbody tr th:only-of-type {\n",
              "        vertical-align: middle;\n",
              "    }\n",
              "\n",
              "    .dataframe tbody tr th {\n",
              "        vertical-align: top;\n",
              "    }\n",
              "\n",
              "    .dataframe thead th {\n",
              "        text-align: right;\n",
              "    }\n",
              "</style>\n",
              "<table border=\"1\" class=\"dataframe\">\n",
              "  <thead>\n",
              "    <tr style=\"text-align: right;\">\n",
              "      <th></th>\n",
              "      <th>IDENT</th>\n",
              "      <th>Manual_noise_sigma</th>\n",
              "      <th>Original_size</th>\n",
              "      <th>fit_dvc_btt</th>\n",
              "      <th>fit_mad_b</th>\n",
              "      <th>fit_mad_s</th>\n",
              "      <th>flux</th>\n",
              "      <th>flux_radius</th>\n",
              "      <th>mag_auto</th>\n",
              "      <th>maxI_4_CV</th>\n",
              "      <th>use_bulgefit</th>\n",
              "      <th>viable_sersic</th>\n",
              "      <th>zphot</th>\n",
              "      <th>Sersic_I</th>\n",
              "      <th>Sersic_HLR</th>\n",
              "      <th>Sersic_n</th>\n",
              "      <th>Sersic_q</th>\n",
              "      <th>Sersic_boxiness</th>\n",
              "      <th>Sersic_phi</th>\n",
              "      <th>Bulge_I</th>\n",
              "      <th>Bulge_HLR</th>\n",
              "      <th>Bulge_n</th>\n",
              "      <th>Bulge_q</th>\n",
              "      <th>Bulge_boxiness</th>\n",
              "      <th>Bulge_phi</th>\n",
              "      <th>Disk_I</th>\n",
              "      <th>Disk_HLR</th>\n",
              "      <th>Disk_n</th>\n",
              "      <th>Disk_q</th>\n",
              "      <th>Disk_boxiness</th>\n",
              "      <th>Disk_phi</th>\n",
              "      <th>HLRcirc_Sersic</th>\n",
              "      <th>HLRcirc_Bulge</th>\n",
              "      <th>HLRcirc_Disk</th>\n",
              "      <th>fit_status_0</th>\n",
              "      <th>fit_status_1</th>\n",
              "      <th>fit_status_2</th>\n",
              "      <th>fit_status_3</th>\n",
              "      <th>fit_status_4</th>\n",
              "      <th>SNR_Manual</th>\n",
              "      <th>NonUniformity</th>\n",
              "      <th>maxI</th>\n",
              "    </tr>\n",
              "  </thead>\n",
              "  <tbody>\n",
              "    <tr>\n",
              "      <th>0</th>\n",
              "      <td>141190</td>\n",
              "      <td>0.008710</td>\n",
              "      <td>242</td>\n",
              "      <td>0.072256</td>\n",
              "      <td>0.002850</td>\n",
              "      <td>0.002923</td>\n",
              "      <td>99.841270</td>\n",
              "      <td>7.310604</td>\n",
              "      <td>21.040642</td>\n",
              "      <td>0.441848</td>\n",
              "      <td>0</td>\n",
              "      <td>1</td>\n",
              "      <td>0.1950</td>\n",
              "      <td>0.013363</td>\n",
              "      <td>10.856601</td>\n",
              "      <td>1.145393</td>\n",
              "      <td>0.320146</td>\n",
              "      <td>0.0</td>\n",
              "      <td>1.649815</td>\n",
              "      <td>0.012038</td>\n",
              "      <td>10.888095</td>\n",
              "      <td>1.0</td>\n",
              "      <td>0.351040</td>\n",
              "      <td>0.0</td>\n",
              "      <td>1.632422</td>\n",
              "      <td>0.004279</td>\n",
              "      <td>10.033260</td>\n",
              "      <td>4.0</td>\n",
              "      <td>0.050000</td>\n",
              "      <td>0.0</td>\n",
              "      <td>1.698688</td>\n",
              "      <td>6.142818</td>\n",
              "      <td>0.00000</td>\n",
              "      <td>0.000000</td>\n",
              "      <td>1.0</td>\n",
              "      <td>1.0</td>\n",
              "      <td>1.0</td>\n",
              "      <td>1.0</td>\n",
              "      <td>1.0</td>\n",
              "      <td>50.727741</td>\n",
              "      <td>42.000836</td>\n",
              "      <td>1.023790</td>\n",
              "    </tr>\n",
              "    <tr>\n",
              "      <th>1</th>\n",
              "      <td>143346</td>\n",
              "      <td>0.007900</td>\n",
              "      <td>144</td>\n",
              "      <td>0.006207</td>\n",
              "      <td>0.002618</td>\n",
              "      <td>0.002648</td>\n",
              "      <td>47.668005</td>\n",
              "      <td>8.154056</td>\n",
              "      <td>21.782894</td>\n",
              "      <td>0.184937</td>\n",
              "      <td>0</td>\n",
              "      <td>1</td>\n",
              "      <td>0.7552</td>\n",
              "      <td>0.014111</td>\n",
              "      <td>9.301698</td>\n",
              "      <td>0.809802</td>\n",
              "      <td>0.694176</td>\n",
              "      <td>0.0</td>\n",
              "      <td>-1.910366</td>\n",
              "      <td>0.011899</td>\n",
              "      <td>9.928521</td>\n",
              "      <td>1.0</td>\n",
              "      <td>0.690269</td>\n",
              "      <td>0.0</td>\n",
              "      <td>1.224553</td>\n",
              "      <td>0.258925</td>\n",
              "      <td>0.132454</td>\n",
              "      <td>4.0</td>\n",
              "      <td>0.614526</td>\n",
              "      <td>0.0</td>\n",
              "      <td>2.009977</td>\n",
              "      <td>7.749919</td>\n",
              "      <td>0.00000</td>\n",
              "      <td>0.000000</td>\n",
              "      <td>1.0</td>\n",
              "      <td>1.0</td>\n",
              "      <td>1.0</td>\n",
              "      <td>1.0</td>\n",
              "      <td>1.0</td>\n",
              "      <td>23.411050</td>\n",
              "      <td>29.116470</td>\n",
              "      <td>0.345019</td>\n",
              "    </tr>\n",
              "    <tr>\n",
              "      <th>2</th>\n",
              "      <td>93315</td>\n",
              "      <td>0.005307</td>\n",
              "      <td>92</td>\n",
              "      <td>0.008065</td>\n",
              "      <td>0.004632</td>\n",
              "      <td>0.004639</td>\n",
              "      <td>21.396968</td>\n",
              "      <td>4.657753</td>\n",
              "      <td>22.861856</td>\n",
              "      <td>0.149750</td>\n",
              "      <td>0</td>\n",
              "      <td>1</td>\n",
              "      <td>0.9616</td>\n",
              "      <td>0.051727</td>\n",
              "      <td>4.763626</td>\n",
              "      <td>0.840383</td>\n",
              "      <td>0.637208</td>\n",
              "      <td>0.0</td>\n",
              "      <td>2.113670</td>\n",
              "      <td>0.047064</td>\n",
              "      <td>4.870544</td>\n",
              "      <td>1.0</td>\n",
              "      <td>0.637739</td>\n",
              "      <td>0.0</td>\n",
              "      <td>-1.019702</td>\n",
              "      <td>0.528859</td>\n",
              "      <td>0.347635</td>\n",
              "      <td>4.0</td>\n",
              "      <td>0.050000</td>\n",
              "      <td>0.0</td>\n",
              "      <td>-3.063154</td>\n",
              "      <td>3.802580</td>\n",
              "      <td>0.00000</td>\n",
              "      <td>0.000000</td>\n",
              "      <td>1.0</td>\n",
              "      <td>1.0</td>\n",
              "      <td>1.0</td>\n",
              "      <td>1.0</td>\n",
              "      <td>1.0</td>\n",
              "      <td>28.217329</td>\n",
              "      <td>61.255597</td>\n",
              "      <td>0.273879</td>\n",
              "    </tr>\n",
              "    <tr>\n",
              "      <th>3</th>\n",
              "      <td>129658</td>\n",
              "      <td>0.005357</td>\n",
              "      <td>112</td>\n",
              "      <td>0.191620</td>\n",
              "      <td>0.002874</td>\n",
              "      <td>0.002959</td>\n",
              "      <td>24.274229</td>\n",
              "      <td>10.014692</td>\n",
              "      <td>22.504494</td>\n",
              "      <td>0.108650</td>\n",
              "      <td>1</td>\n",
              "      <td>1</td>\n",
              "      <td>1.0986</td>\n",
              "      <td>0.007964</td>\n",
              "      <td>12.929523</td>\n",
              "      <td>1.364607</td>\n",
              "      <td>0.411593</td>\n",
              "      <td>0.0</td>\n",
              "      <td>-0.224501</td>\n",
              "      <td>0.008060</td>\n",
              "      <td>13.861269</td>\n",
              "      <td>1.0</td>\n",
              "      <td>0.327986</td>\n",
              "      <td>0.0</td>\n",
              "      <td>-0.251854</td>\n",
              "      <td>0.000835</td>\n",
              "      <td>13.861269</td>\n",
              "      <td>4.0</td>\n",
              "      <td>0.414341</td>\n",
              "      <td>0.0</td>\n",
              "      <td>0.989760</td>\n",
              "      <td>8.295007</td>\n",
              "      <td>8.92241</td>\n",
              "      <td>7.938353</td>\n",
              "      <td>1.0</td>\n",
              "      <td>1.0</td>\n",
              "      <td>1.0</td>\n",
              "      <td>1.0</td>\n",
              "      <td>1.0</td>\n",
              "      <td>20.282247</td>\n",
              "      <td>26.478137</td>\n",
              "      <td>0.150976</td>\n",
              "    </tr>\n",
              "    <tr>\n",
              "      <th>4</th>\n",
              "      <td>9205</td>\n",
              "      <td>0.007133</td>\n",
              "      <td>124</td>\n",
              "      <td>0.050223</td>\n",
              "      <td>0.002835</td>\n",
              "      <td>0.002975</td>\n",
              "      <td>37.317560</td>\n",
              "      <td>7.358890</td>\n",
              "      <td>22.131260</td>\n",
              "      <td>0.153872</td>\n",
              "      <td>0</td>\n",
              "      <td>1</td>\n",
              "      <td>0.4449</td>\n",
              "      <td>0.019680</td>\n",
              "      <td>9.018477</td>\n",
              "      <td>0.832925</td>\n",
              "      <td>0.499250</td>\n",
              "      <td>0.0</td>\n",
              "      <td>0.280726</td>\n",
              "      <td>0.015331</td>\n",
              "      <td>9.624029</td>\n",
              "      <td>1.0</td>\n",
              "      <td>0.527362</td>\n",
              "      <td>0.0</td>\n",
              "      <td>0.260606</td>\n",
              "      <td>0.004720</td>\n",
              "      <td>9.624029</td>\n",
              "      <td>4.0</td>\n",
              "      <td>0.050000</td>\n",
              "      <td>0.0</td>\n",
              "      <td>0.376971</td>\n",
              "      <td>6.372244</td>\n",
              "      <td>0.00000</td>\n",
              "      <td>0.000000</td>\n",
              "      <td>1.0</td>\n",
              "      <td>1.0</td>\n",
              "      <td>1.0</td>\n",
              "      <td>1.0</td>\n",
              "      <td>1.0</td>\n",
              "      <td>21.572091</td>\n",
              "      <td>27.345317</td>\n",
              "      <td>0.250405</td>\n",
              "    </tr>\n",
              "  </tbody>\n",
              "</table>\n",
              "</div>"
            ],
            "text/plain": [
              "    IDENT  Manual_noise_sigma  ...  NonUniformity      maxI\n",
              "0  141190            0.008710  ...      42.000836  1.023790\n",
              "1  143346            0.007900  ...      29.116470  0.345019\n",
              "2   93315            0.005307  ...      61.255597  0.273879\n",
              "3  129658            0.005357  ...      26.478137  0.150976\n",
              "4    9205            0.007133  ...      27.345317  0.250405\n",
              "\n",
              "[5 rows x 42 columns]"
            ]
          },
          "metadata": {
            "tags": []
          },
          "execution_count": 3
        }
      ]
    },
    {
      "cell_type": "code",
      "metadata": {
        "id": "M8trW4jmFv8x"
      },
      "source": [
        "y_Sersic=y[['Sersic_HLR', 'Sersic_n', 'Sersic_q','Sersic_phi']]"
      ],
      "execution_count": 4,
      "outputs": []
    },
    {
      "cell_type": "code",
      "metadata": {
        "id": "dDxgHbsRFv8x"
      },
      "source": [
        "from sklearn.model_selection import train_test_split\n",
        "x_train, x_test, y_train, y_test = train_test_split(X, y_Sersic, test_size=0.2)"
      ],
      "execution_count": 5,
      "outputs": []
    },
    {
      "cell_type": "code",
      "metadata": {
        "id": "kzW6F-BoHhMp"
      },
      "source": [
        "from sklearn.ensemble import RandomForestRegressor\n",
        "from sklearn.ensemble import GradientBoostingRegressor\n",
        "from sklearn.multioutput import MultiOutputRegressor\n",
        "from sklearn.metrics import r2_score"
      ],
      "execution_count": 6,
      "outputs": []
    },
    {
      "cell_type": "markdown",
      "metadata": {
        "id": "xN1WNEZtHahC"
      },
      "source": [
        "# Predict whole set of Sersic parameters"
      ]
    },
    {
      "cell_type": "code",
      "metadata": {
        "colab": {
          "base_uri": "https://localhost:8080/"
        },
        "id": "X1UQo6cuHeEN",
        "outputId": "b1c9c8bb-6b89-4057-9b81-54b9a18615db"
      },
      "source": [
        "RandF= RandomForestRegressor(random_state=42)\n",
        "RandF.fit(x_train, y_train)\n",
        "print('Random Forest R2 score {:.2f}'.format(r2_score(y_test,RandF.predict(x_test))))"
      ],
      "execution_count": null,
      "outputs": [
        {
          "output_type": "stream",
          "text": [
            "Random Forest R2 score 0.54\n"
          ],
          "name": "stdout"
        }
      ]
    },
    {
      "cell_type": "code",
      "metadata": {
        "colab": {
          "base_uri": "https://localhost:8080/"
        },
        "id": "QDWE5rmLHzl-",
        "outputId": "5a3a3b29-04a8-4040-8fc0-d2e0a4f843c9"
      },
      "source": [
        "grB=MultiOutputRegressor(\n",
        "    GradientBoostingRegressor(random_state=42))\n",
        "grB.fit(x_train, y_train)\n",
        "print('Grad Boost R2 score {:.2f}'.format(r2_score(y_test,grB.predict(x_test))))"
      ],
      "execution_count": null,
      "outputs": [
        {
          "output_type": "stream",
          "text": [
            "Grad Boost R2 score 0.59\n"
          ],
          "name": "stdout"
        }
      ]
    },
    {
      "cell_type": "markdown",
      "metadata": {
        "id": "-fWKKRoZIJGF"
      },
      "source": [
        "# Predict Features one by one"
      ]
    },
    {
      "cell_type": "code",
      "metadata": {
        "id": "MoiaRFe8Fv8y"
      },
      "source": [
        "def test_model(model,x,y):\n",
        "    x_train, x_test, y_train, y_test = train_test_split(x, y, test_size=0.2)\n",
        "    for i,column in enumerate(y.columns):\n",
        "        regr=model(random_state=42)\n",
        "        regr.fit(x_train, y_train[column])\n",
        "        #print(column,'R2 {:.2f}'.format(r2_score(y_test[column],regr.predict(x_test))))\n",
        "        print(column,' MRAE {:.2f}'.format(np.abs((y_test[column]-regr.predict(x_test))/y_test[column]).mean()))\n",
        "    return "
      ],
      "execution_count": 7,
      "outputs": []
    },
    {
      "cell_type": "code",
      "metadata": {
        "colab": {
          "base_uri": "https://localhost:8080/"
        },
        "id": "RqnqVuszFv8y",
        "outputId": "7de9f87b-e80e-4698-b64c-ffbe91b07cb6"
      },
      "source": [
        "print('Random forest predictions')\n",
        "test_model(RandomForestRegressor,X,y_Sersic)"
      ],
      "execution_count": 23,
      "outputs": [
        {
          "output_type": "stream",
          "text": [
            "Random forest predictions\n",
            "Sersic_HLR  MRAE 0.12\n",
            "Sersic_n  MRAE 0.26\n",
            "Sersic_q  MRAE 0.15\n",
            "Sersic_phi  MRAE 0.91\n"
          ],
          "name": "stdout"
        }
      ]
    },
    {
      "cell_type": "code",
      "metadata": {
        "colab": {
          "base_uri": "https://localhost:8080/"
        },
        "id": "LEP5mzzvFv8z",
        "outputId": "6623c484-7be6-4348-905a-ffc1a2575593"
      },
      "source": [
        "print('Grad Boost predictions')\n",
        "test_model(GradientBoostingRegressor,X,y_Sersic)"
      ],
      "execution_count": 24,
      "outputs": [
        {
          "output_type": "stream",
          "text": [
            "Grad Boost predictions\n",
            "Sersic_HLR  MRAE 0.13\n",
            "Sersic_n  MRAE 0.27\n",
            "Sersic_q  MRAE 0.17\n",
            "Sersic_phi  MRAE 1.15\n"
          ],
          "name": "stdout"
        }
      ]
    },
    {
      "cell_type": "markdown",
      "metadata": {
        "id": "77Bgl2E3InL-"
      },
      "source": [
        "# PCA processing"
      ]
    },
    {
      "cell_type": "code",
      "metadata": {
        "id": "GmF4-VIrIobq"
      },
      "source": [
        "from sklearn.decomposition import PCA"
      ],
      "execution_count": 8,
      "outputs": []
    },
    {
      "cell_type": "code",
      "metadata": {
        "colab": {
          "base_uri": "https://localhost:8080/"
        },
        "id": "5LX80zscq0t_",
        "outputId": "07d47cf6-7631-47fb-ba84-e5f31ce8722d"
      },
      "source": [
        "pca = PCA(n_components=2)\n",
        "pca.fit(X)"
      ],
      "execution_count": 9,
      "outputs": [
        {
          "output_type": "execute_result",
          "data": {
            "text/plain": [
              "PCA(copy=True, iterated_power='auto', n_components=2, random_state=None,\n",
              "    svd_solver='auto', tol=0.0, whiten=False)"
            ]
          },
          "metadata": {
            "tags": []
          },
          "execution_count": 9
        }
      ]
    },
    {
      "cell_type": "code",
      "metadata": {
        "id": "sPYuF1Psq5_4"
      },
      "source": [
        "def test_model_PCA(model,x,y,PCA_components):\n",
        "    pca = PCA(n_components=PCA_components)\n",
        "    x_train, x_test, y_train, y_test = train_test_split(pca.fit_transform(x), y, test_size=0.2)\n",
        "    models=np.zeros(4)\n",
        "    for i,column in enumerate(y.columns):\n",
        "        regr=model(random_state=42)\n",
        "        regr.fit(x_train, y_train[column])\n",
        "        models[i]=np.abs((y_test[column]-regr.predict(x_test))/y_test[column]).mean()\n",
        "    return models"
      ],
      "execution_count": 10,
      "outputs": []
    },
    {
      "cell_type": "code",
      "metadata": {
        "colab": {
          "base_uri": "https://localhost:8080/"
        },
        "id": "z-GHLNh5rPIn",
        "outputId": "1c87c37b-2e78-4ae9-c352-dec82ab8f8c6"
      },
      "source": [
        "scores_RandF=np.zeros((7,4))\n",
        "PCA_components=[6,8,10,13,16,32,64]\n",
        "for i,n in tqdm(enumerate(PCA_components)):\n",
        "    scores_RandF[i]=test_model_PCA(RandomForestRegressor,X,y_Sersic,n)"
      ],
      "execution_count": 16,
      "outputs": [
        {
          "output_type": "stream",
          "text": [
            "7it [18:36, 159.43s/it]\n"
          ],
          "name": "stderr"
        }
      ]
    },
    {
      "cell_type": "code",
      "metadata": {
        "id": "WzHp6cr5s4ah",
        "colab": {
          "base_uri": "https://localhost:8080/",
          "height": 295
        },
        "outputId": "57ea58d7-cd00-4661-f4fd-e2810e340837"
      },
      "source": [
        "for i,feature in enumerate(['Sersic_HLR', 'Sersic_n', 'Sersic_q']):\n",
        "  plt.plot(PCA_components,scores_RandF[:,i],label=feature)\n",
        "plt.title('Random Forest on PCA components number')\n",
        "plt.xticks(PCA_components)\n",
        "plt.xlabel('PCA restricted number of features')\n",
        "plt.ylabel('RMAE')\n",
        "plt.legend()\n",
        "plt.show()"
      ],
      "execution_count": 17,
      "outputs": [
        {
          "output_type": "display_data",
          "data": {
            "image/png": "[encoded data removed]",
            "text/plain": [
              "<Figure size 432x288 with 1 Axes>"
            ]
          },
          "metadata": {
            "tags": [],
            "needs_background": "light"
          }
        }
      ]
    },
    {
      "cell_type": "code",
      "metadata": {
        "id": "1qxb4GDhsScw",
        "colab": {
          "base_uri": "https://localhost:8080/"
        },
        "outputId": "ad965841-702e-468b-8db2-255617de0cd3"
      },
      "source": [
        "scores_GrB=np.zeros((7,4))\n",
        "PCA_components=[6,8,10,13,16,32,64]\n",
        "for i,n in tqdm(enumerate(PCA_components)):\n",
        "    scores_GrB[i]=test_model_PCA(GradientBoostingRegressor,X,y_Sersic,n)"
      ],
      "execution_count": 11,
      "outputs": [
        {
          "output_type": "stream",
          "text": [
            "7it [07:46, 66.58s/it]\n"
          ],
          "name": "stderr"
        }
      ]
    },
    {
      "cell_type": "code",
      "metadata": {
        "id": "BgRsPMOGsj2A",
        "colab": {
          "base_uri": "https://localhost:8080/",
          "height": 295
        },
        "outputId": "000fc6c3-732c-4ce7-a5bd-e5bd1c7a4f5e"
      },
      "source": [
        "for i,feature in enumerate(['Sersic_HLR', 'Sersic_n', 'Sersic_q']):\n",
        "  plt.plot(PCA_components,scores_GrB[:,i],label=feature)\n",
        "plt.title('Grad Boost on PCA components number')\n",
        "plt.xticks(PCA_components)\n",
        "plt.xlabel('PCA restricted number of features')\n",
        "plt.ylabel('RMAE')\n",
        "plt.legend()\n",
        "plt.show()"
      ],
      "execution_count": 14,
      "outputs": [
        {
          "output_type": "display_data",
          "data": {
            "image/png": "[encoded data removed]",
            "text/plain": [
              "<Figure size 432x288 with 1 Axes>"
            ]
          },
          "metadata": {
            "tags": [],
            "needs_background": "light"
          }
        }
      ]
    },
    {
      "cell_type": "code",
      "metadata": {
        "id": "0d10gZOQ2grv"
      },
      "source": [
        ""
      ],
      "execution_count": null,
      "outputs": []
    }
  ]
}