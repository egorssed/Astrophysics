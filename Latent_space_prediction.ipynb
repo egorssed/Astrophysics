{
 "cells": [
  {
   "cell_type": "code",
   "execution_count": 1,
   "metadata": {},
   "outputs": [],
   "source": [
    "import numpy as np\n",
    "import pandas as pd"
   ]
  },
  {
   "cell_type": "code",
   "execution_count": 3,
   "metadata": {},
   "outputs": [],
   "source": [
    "y=pd.read_csv(\"Data/Dataset_labels_scaled_max.csv\",index_col=0)\n",
    "X=np.load('Data/Latent_space.npy')"
   ]
  },
  {
   "cell_type": "code",
   "execution_count": 4,
   "metadata": {},
   "outputs": [
    {
     "data": {
      "text/html": [
       "<div>\n",
       "<style scoped>\n",
       "    .dataframe tbody tr th:only-of-type {\n",
       "        vertical-align: middle;\n",
       "    }\n",
       "\n",
       "    .dataframe tbody tr th {\n",
       "        vertical-align: top;\n",
       "    }\n",
       "\n",
       "    .dataframe thead th {\n",
       "        text-align: right;\n",
       "    }\n",
       "</style>\n",
       "<table border=\"1\" class=\"dataframe\">\n",
       "  <thead>\n",
       "    <tr style=\"text-align: right;\">\n",
       "      <th></th>\n",
       "      <th>IDENT</th>\n",
       "      <th>Manual_noise_sigma</th>\n",
       "      <th>Original_size</th>\n",
       "      <th>fit_dvc_btt</th>\n",
       "      <th>fit_mad_b</th>\n",
       "      <th>fit_mad_s</th>\n",
       "      <th>flux</th>\n",
       "      <th>flux_radius</th>\n",
       "      <th>mag_auto</th>\n",
       "      <th>maxI_4_CV</th>\n",
       "      <th>...</th>\n",
       "      <th>HLRcirc_Bulge</th>\n",
       "      <th>HLRcirc_Disk</th>\n",
       "      <th>fit_status_0</th>\n",
       "      <th>fit_status_1</th>\n",
       "      <th>fit_status_2</th>\n",
       "      <th>fit_status_3</th>\n",
       "      <th>fit_status_4</th>\n",
       "      <th>SNR_Manual</th>\n",
       "      <th>NonUniformity</th>\n",
       "      <th>maxI</th>\n",
       "    </tr>\n",
       "  </thead>\n",
       "  <tbody>\n",
       "    <tr>\n",
       "      <th>0</th>\n",
       "      <td>141190</td>\n",
       "      <td>0.008710</td>\n",
       "      <td>242</td>\n",
       "      <td>0.072256</td>\n",
       "      <td>0.002850</td>\n",
       "      <td>0.002923</td>\n",
       "      <td>99.841270</td>\n",
       "      <td>7.310604</td>\n",
       "      <td>21.040642</td>\n",
       "      <td>0.441848</td>\n",
       "      <td>...</td>\n",
       "      <td>0.00000</td>\n",
       "      <td>0.000000</td>\n",
       "      <td>1.0</td>\n",
       "      <td>1.0</td>\n",
       "      <td>1.0</td>\n",
       "      <td>1.0</td>\n",
       "      <td>1.0</td>\n",
       "      <td>50.727741</td>\n",
       "      <td>42.000836</td>\n",
       "      <td>1.023790</td>\n",
       "    </tr>\n",
       "    <tr>\n",
       "      <th>1</th>\n",
       "      <td>143346</td>\n",
       "      <td>0.007900</td>\n",
       "      <td>144</td>\n",
       "      <td>0.006207</td>\n",
       "      <td>0.002618</td>\n",
       "      <td>0.002648</td>\n",
       "      <td>47.668005</td>\n",
       "      <td>8.154056</td>\n",
       "      <td>21.782894</td>\n",
       "      <td>0.184937</td>\n",
       "      <td>...</td>\n",
       "      <td>0.00000</td>\n",
       "      <td>0.000000</td>\n",
       "      <td>1.0</td>\n",
       "      <td>1.0</td>\n",
       "      <td>1.0</td>\n",
       "      <td>1.0</td>\n",
       "      <td>1.0</td>\n",
       "      <td>23.411050</td>\n",
       "      <td>29.116470</td>\n",
       "      <td>0.345019</td>\n",
       "    </tr>\n",
       "    <tr>\n",
       "      <th>2</th>\n",
       "      <td>93315</td>\n",
       "      <td>0.005307</td>\n",
       "      <td>92</td>\n",
       "      <td>0.008065</td>\n",
       "      <td>0.004632</td>\n",
       "      <td>0.004639</td>\n",
       "      <td>21.396968</td>\n",
       "      <td>4.657753</td>\n",
       "      <td>22.861856</td>\n",
       "      <td>0.149750</td>\n",
       "      <td>...</td>\n",
       "      <td>0.00000</td>\n",
       "      <td>0.000000</td>\n",
       "      <td>1.0</td>\n",
       "      <td>1.0</td>\n",
       "      <td>1.0</td>\n",
       "      <td>1.0</td>\n",
       "      <td>1.0</td>\n",
       "      <td>28.217329</td>\n",
       "      <td>61.255597</td>\n",
       "      <td>0.273879</td>\n",
       "    </tr>\n",
       "    <tr>\n",
       "      <th>3</th>\n",
       "      <td>129658</td>\n",
       "      <td>0.005357</td>\n",
       "      <td>112</td>\n",
       "      <td>0.191620</td>\n",
       "      <td>0.002874</td>\n",
       "      <td>0.002959</td>\n",
       "      <td>24.274229</td>\n",
       "      <td>10.014692</td>\n",
       "      <td>22.504494</td>\n",
       "      <td>0.108650</td>\n",
       "      <td>...</td>\n",
       "      <td>8.92241</td>\n",
       "      <td>7.938353</td>\n",
       "      <td>1.0</td>\n",
       "      <td>1.0</td>\n",
       "      <td>1.0</td>\n",
       "      <td>1.0</td>\n",
       "      <td>1.0</td>\n",
       "      <td>20.282247</td>\n",
       "      <td>26.478137</td>\n",
       "      <td>0.150976</td>\n",
       "    </tr>\n",
       "    <tr>\n",
       "      <th>4</th>\n",
       "      <td>9205</td>\n",
       "      <td>0.007133</td>\n",
       "      <td>124</td>\n",
       "      <td>0.050223</td>\n",
       "      <td>0.002835</td>\n",
       "      <td>0.002975</td>\n",
       "      <td>37.317560</td>\n",
       "      <td>7.358890</td>\n",
       "      <td>22.131260</td>\n",
       "      <td>0.153872</td>\n",
       "      <td>...</td>\n",
       "      <td>0.00000</td>\n",
       "      <td>0.000000</td>\n",
       "      <td>1.0</td>\n",
       "      <td>1.0</td>\n",
       "      <td>1.0</td>\n",
       "      <td>1.0</td>\n",
       "      <td>1.0</td>\n",
       "      <td>21.572091</td>\n",
       "      <td>27.345317</td>\n",
       "      <td>0.250405</td>\n",
       "    </tr>\n",
       "  </tbody>\n",
       "</table>\n",
       "<p>5 rows × 42 columns</p>\n",
       "</div>"
      ],
      "text/plain": [
       "    IDENT  Manual_noise_sigma  Original_size  fit_dvc_btt  fit_mad_b  \\\n",
       "0  141190            0.008710            242     0.072256   0.002850   \n",
       "1  143346            0.007900            144     0.006207   0.002618   \n",
       "2   93315            0.005307             92     0.008065   0.004632   \n",
       "3  129658            0.005357            112     0.191620   0.002874   \n",
       "4    9205            0.007133            124     0.050223   0.002835   \n",
       "\n",
       "   fit_mad_s       flux  flux_radius   mag_auto  maxI_4_CV  ...  \\\n",
       "0   0.002923  99.841270     7.310604  21.040642   0.441848  ...   \n",
       "1   0.002648  47.668005     8.154056  21.782894   0.184937  ...   \n",
       "2   0.004639  21.396968     4.657753  22.861856   0.149750  ...   \n",
       "3   0.002959  24.274229    10.014692  22.504494   0.108650  ...   \n",
       "4   0.002975  37.317560     7.358890  22.131260   0.153872  ...   \n",
       "\n",
       "   HLRcirc_Bulge  HLRcirc_Disk  fit_status_0  fit_status_1  fit_status_2  \\\n",
       "0        0.00000      0.000000           1.0           1.0           1.0   \n",
       "1        0.00000      0.000000           1.0           1.0           1.0   \n",
       "2        0.00000      0.000000           1.0           1.0           1.0   \n",
       "3        8.92241      7.938353           1.0           1.0           1.0   \n",
       "4        0.00000      0.000000           1.0           1.0           1.0   \n",
       "\n",
       "   fit_status_3  fit_status_4  SNR_Manual  NonUniformity      maxI  \n",
       "0           1.0           1.0   50.727741      42.000836  1.023790  \n",
       "1           1.0           1.0   23.411050      29.116470  0.345019  \n",
       "2           1.0           1.0   28.217329      61.255597  0.273879  \n",
       "3           1.0           1.0   20.282247      26.478137  0.150976  \n",
       "4           1.0           1.0   21.572091      27.345317  0.250405  \n",
       "\n",
       "[5 rows x 42 columns]"
      ]
     },
     "execution_count": 4,
     "metadata": {},
     "output_type": "execute_result"
    }
   ],
   "source": [
    "y.head()"
   ]
  },
  {
   "cell_type": "code",
   "execution_count": 9,
   "metadata": {},
   "outputs": [
    {
     "data": {
      "text/plain": [
       "Index(['Sersic_I', 'Sersic_HLR', 'Sersic_n', 'Sersic_q', 'Sersic_boxiness',\n",
       "       'Sersic_phi'],\n",
       "      dtype='object')"
      ]
     },
     "execution_count": 9,
     "metadata": {},
     "output_type": "execute_result"
    }
   ],
   "source": [
    "y.columns[y.columns.str.startswith('Sersic')]"
   ]
  },
  {
   "cell_type": "code",
   "execution_count": 10,
   "metadata": {},
   "outputs": [],
   "source": [
    "y_Sersic=y[['Sersic_HLR', 'Sersic_n', 'Sersic_q','Sersic_phi']]"
   ]
  },
  {
   "cell_type": "code",
   "execution_count": 11,
   "metadata": {},
   "outputs": [],
   "source": [
    "from sklearn.model_selection import train_test_split\n",
    "x_train, x_test, y_train, y_test = train_test_split(X, y_Sersic, test_size=0.2)"
   ]
  },
  {
   "cell_type": "code",
   "execution_count": 28,
   "metadata": {},
   "outputs": [],
   "source": [
    "def test_model(model,x,y):\n",
    "    x_train, x_test, y_train, y_test = train_test_split(x, y, test_size=0.2)\n",
    "    models={}\n",
    "    for i,column in enumerate(y.columns):\n",
    "        regr=model(random_state=42)\n",
    "        regr.fit(x_train, y_train[column])\n",
    "        models[column]=regr\n",
    "        print(column,r2_score(y_test[column],regr.predict(x_test)))\n",
    "    return models"
   ]
  },
  {
   "cell_type": "code",
   "execution_count": 13,
   "metadata": {},
   "outputs": [
    {
     "data": {
      "text/plain": [
       "RandomForestRegressor(random_state=42)"
      ]
     },
     "execution_count": 13,
     "metadata": {},
     "output_type": "execute_result"
    }
   ],
   "source": [
    "from sklearn.ensemble import RandomForestRegressor\n",
    "regr = RandomForestRegressor(random_state=42)\n",
    "regr.fit(x_train, y_train)"
   ]
  },
  {
   "cell_type": "code",
   "execution_count": 14,
   "metadata": {},
   "outputs": [
    {
     "data": {
      "text/plain": [
       "0.550718711643557"
      ]
     },
     "execution_count": 14,
     "metadata": {},
     "output_type": "execute_result"
    }
   ],
   "source": [
    "from sklearn.metrics import r2_score\n",
    "r2_score(y_test,regr.predict(x_test))"
   ]
  },
  {
   "cell_type": "code",
   "execution_count": 34,
   "metadata": {},
   "outputs": [
    {
     "name": "stdout",
     "output_type": "stream",
     "text": [
      "Sersic_HLR 0.6743067671809722\n",
      "Sersic_n 0.7970699129349867\n",
      "Sersic_q 0.7793512071879496\n",
      "Sersic_phi 0.2847322939656446\n"
     ]
    }
   ],
   "source": [
    "Forests=test_model(RandomForestRegressor,X,y_Sersic)"
   ]
  },
  {
   "cell_type": "code",
   "execution_count": 35,
   "metadata": {},
   "outputs": [
    {
     "name": "stdout",
     "output_type": "stream",
     "text": [
      "Sersic_HLR 0.682893654861875\n",
      "Sersic_n 0.7960814449517473\n",
      "Sersic_q 0.6981602034518656\n",
      "Sersic_phi 0.24780566117176028\n"
     ]
    }
   ],
   "source": [
    "from sklearn.ensemble import GradientBoostingRegressor\n",
    "GrBoosts=test_model(GradientBoostingRegressor,X,y_Sersic)"
   ]
  },
  {
   "cell_type": "code",
   "execution_count": 33,
   "metadata": {},
   "outputs": [
    {
     "data": {
      "text/plain": [
       "0.5987481378441584"
      ]
     },
     "execution_count": 33,
     "metadata": {},
     "output_type": "execute_result"
    }
   ],
   "source": [
    "from sklearn.ensemble import GradientBoostingRegressor\n",
    "from sklearn.multioutput import MultiOutputRegressor\n",
    "grB=MultiOutputRegressor(\n",
    "    GradientBoostingRegressor(random_state=42))\n",
    "grB.fit(x_train, y_train)\n",
    "r2_score(y_test,grB.predict(x_test))"
   ]
  }
 ],
 "metadata": {
  "kernelspec": {
   "display_name": "Python 3",
   "language": "python",
   "name": "python3"
  },
  "language_info": {
   "codemirror_mode": {
    "name": "ipython",
    "version": 3
   },
   "file_extension": ".py",
   "mimetype": "text/x-python",
   "name": "python",
   "nbconvert_exporter": "python",
   "pygments_lexer": "ipython3",
   "version": "3.7.9"
  }
 },
 "nbformat": 4,
 "nbformat_minor": 4
}
